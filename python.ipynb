{
 "cells": [
  {
   "cell_type": "markdown",
   "metadata": {},
   "source": [
    "# Python 😮🐍\n",
    "\n",
    "Today, you'll learn how to:\n",
    "\n",
    "1. navigate Jupyter notebooks (like this one);\n",
    "2. write and evaluate some basic *expressions* in Python, the computer language that many people use!\n",
    "3. call *functions* to use code other people have written; and\n",
    "4. break down Python code into smaller parts to understand it."
   ]
  },
  {
   "cell_type": "markdown",
   "metadata": {},
   "source": [
    "# 1. Jupyter notebooks\n",
    "This webpage is called a Jupyter notebook. A notebook is a place to write programs and view their results. You could write programs in a text file if you want, but it's nice to do it in a notebook like this because you can share it with others!\n",
    "\n",
    "## 1.1. Text cells\n",
    "In a notebook, each rectangle containing text or code is called a *cell*.\n",
    "\n",
    "Text cells (like this one) can be edited by double-clicking on them. Double click this cell!! This cell is a text cell, not code. If you want to make a new cell, click \"+Code\" or \"+Text\" at the top of the page for the cell type. \n",
    "\n",
    "After you edit a text cell, click the \"run cell\" button on the left ▶ to re-run any changes.\n",
    "\n",
    "## To run a cell: \n",
    "## - click on the cell\n",
    "## - hold down 'SHIFT' and then tap 'ENTER/RETURN' once."
   ]
  },
  {
   "cell_type": "markdown",
   "metadata": {},
   "source": [
    "## 1.2. Code cells\n",
    "I will use these text cells to give instructions. YOU will basically only work with code cells.\n",
    "\n",
    "Try running the **code cell below** (remember shift + enter! or click the ▶ play button on the left)."
   ]
  },
  {
   "cell_type": "code",
   "execution_count": 1,
   "metadata": {
    "collapsed": true
   },
   "outputs": [],
   "source": [
    "print(\"Hello, World!\")"
   ]
  },
  {
   "cell_type": "markdown",
   "metadata": {},
   "source": [
    "CODE IS EXECUTED IN ORDER!\n",
    "- first line is printed first, then second, etc."
   ]
  },
  {
   "cell_type": "code",
   "execution_count": 3,
   "metadata": {
    "collapsed": true
   },
   "outputs": [],
   "source": [
    "print(\"First this line is printed,\")\n",
    "print(\"and then this one.\")"
   ]
  },
  {
   "cell_type": "markdown",
   "metadata": {},
   "source": [
    "**Question 1.2.1.** Change the cell above so that it prints out:\n",
    "\n",
    "    I'm dreaming of a\n",
    "    white christmas,\n",
    "    just like the ones I used to know\n"
   ]
  },
  {
   "cell_type": "markdown",
   "metadata": {},
   "source": [
    "## 1.3. Writing Jupyter notebooks\n",
    "You can use Jupyter notebooks for your own projects or documents.  When you make your own notebook, you'll need to create your own cells for text and code.\n",
    "\n",
    "To add a cell, click the '+ CODE' button in the menu bar.  It'll start out as a text cell.  You can change it to a code cell by double-clicking inside it.\n",
    "\n",
    "**Question 1.3.1.** Add a code cell below this one.  Write some code in it like:\n",
    "   \n",
    "    2 + 2\n",
    "\n",
    "Run your cell to verify that it works."
   ]
  },
  {
   "cell_type": "markdown",
   "metadata": {},
   "source": [
    "## 1.4. Errors\n",
    "Python is a language, and like natural human languages, it has rules.\n",
    "\n",
    "We have made an error in the next cell.  Run it and see what happens."
   ]
  },
  {
   "cell_type": "code",
   "execution_count": 4,
   "metadata": {
    "collapsed": true
   },
   "outputs": [],
   "source": [
    "print(\"This line is missing something.\""
   ]
  },
  {
   "cell_type": "markdown",
   "metadata": {},
   "source": [
    "OOPS! we are missing a parenthesis.\n",
    "\n",
    "<img src=\"http://datahub.berkeley.edu/user/carlo/files/materials-sp18/materials/sp18/lab/lab01/error.jpg\">"
   ]
  },
  {
   "cell_type": "code",
   "execution_count": 2,
   "metadata": {
    "collapsed": true
   },
   "outputs": [],
   "source": [
    "# use the hashtag to make a comment!"
   ]
  },
  {
   "cell_type": "markdown",
   "metadata": {},
   "source": [
    "# 2. Numbers"
   ]
  },
  {
   "cell_type": "code",
   "execution_count": null,
   "metadata": {
    "collapsed": true
   },
   "outputs": [],
   "source": [
    "3.2500"
   ]
  },
  {
   "cell_type": "markdown",
   "metadata": {},
   "source": [
    "Notice that we didn't have to `print` to see the number displayed. When you run a notebook cell, if the last line has a value, then Jupyter helpfully prints out that value for you. However, it won't print out prior lines automatically."
   ]
  },
  {
   "cell_type": "code",
   "execution_count": null,
   "metadata": {
    "collapsed": true,
    "scrolled": true
   },
   "outputs": [],
   "source": [
    "print(2)\n",
    "3\n",
    "4"
   ]
  },
  {
   "cell_type": "markdown",
   "metadata": {},
   "source": [
    "Above, you should see that 4 is the value of the last expression, 2 is printed, but 3 is lost forever because it was neither printed nor last.\n",
    "\n",
    "You don't want to print everything all the time anyway.  But if you feel sorry for 3, change the cell above to print it."
   ]
  },
  {
   "cell_type": "markdown",
   "metadata": {},
   "source": [
    "## 2.1. Arithmetic\n",
    "The line in the next cell subtracts.  Its value is what you'd expect.  Run it."
   ]
  },
  {
   "cell_type": "code",
   "execution_count": null,
   "metadata": {
    "collapsed": true
   },
   "outputs": [],
   "source": [
    "3.25 - 1.5"
   ]
  },
  {
   "cell_type": "markdown",
   "metadata": {},
   "source": [
    "Remember order of operations applies in code!"
   ]
  },
  {
   "cell_type": "code",
   "execution_count": null,
   "metadata": {
    "collapsed": true
   },
   "outputs": [],
   "source": [
    "1+6*5-6*3**2*2**3/4*7"
   ]
  },
  {
   "cell_type": "code",
   "execution_count": null,
   "metadata": {
    "collapsed": true
   },
   "outputs": [],
   "source": [
    "1+(6*5-(6*3))**2*((2**3)/4*7)"
   ]
  },
  {
   "cell_type": "markdown",
   "metadata": {},
   "source": [
    "# 3. Names\n",
    "If we want to save a value for later, we assign it a name!"
   ]
  },
  {
   "cell_type": "code",
   "execution_count": 1,
   "metadata": {
    "collapsed": true
   },
   "outputs": [],
   "source": [
    "ten = 3 * 2 + 4"
   ]
  },
  {
   "cell_type": "markdown",
   "metadata": {},
   "source": [
    "When you run that cell, Python computes the value of `3 * 2 + 4`, which is the number 10.  Then it gives that value the name `ten`.\n",
    "\n",
    "After you run that cell, the value 10 is bound to the name `ten`. Run the two cells below:"
   ]
  },
  {
   "cell_type": "code",
   "execution_count": null,
   "metadata": {
    "collapsed": true
   },
   "outputs": [],
   "source": [
    "print(ten)\n",
    "print(ten * 5)"
   ]
  },
  {
   "cell_type": "markdown",
   "metadata": {},
   "source": [
    "**Question 3.1.** Try defining a variable called `special_number` that's equal to your favorite number!"
   ]
  },
  {
   "cell_type": "code",
   "execution_count": 4,
   "metadata": {
    "collapsed": true
   },
   "outputs": [],
   "source": [
    "# delete this comment and put your answer here!\n"
   ]
  },
  {
   "cell_type": "markdown",
   "metadata": {},
   "source": [
    "If we use a variable name that we haven't made yet, we get an error! Run the following cell."
   ]
  },
  {
   "cell_type": "code",
   "execution_count": null,
   "metadata": {
    "collapsed": true
   },
   "outputs": [],
   "source": [
    "cruz + 5"
   ]
  },
  {
   "cell_type": "code",
   "execution_count": null,
   "metadata": {
    "collapsed": true
   },
   "outputs": [],
   "source": []
  },
  {
   "cell_type": "markdown",
   "metadata": {},
   "source": [
    "Extra tip: Do \"to the power of\" in python using two stars:\n",
    "\n",
    "$$x^{y} = x ** y$$\n",
    "\n",
    "Run the following cell:"
   ]
  },
  {
   "cell_type": "code",
   "execution_count": null,
   "metadata": {
    "collapsed": true
   },
   "outputs": [],
   "source": [
    "5**2"
   ]
  },
  {
   "cell_type": "markdown",
   "metadata": {},
   "source": [
    "Here's a real-life example of a really useful variable to make:"
   ]
  },
  {
   "cell_type": "code",
   "execution_count": null,
   "metadata": {
    "collapsed": true
   },
   "outputs": [],
   "source": [
    "pi = 355/113\n",
    "pi"
   ]
  },
  {
   "cell_type": "markdown",
   "metadata": {},
   "source": [
    "Compute the area of this circle, using the variable called  `pi`. \n",
    "\n",
    "EXTRA: instead of using `14`, define a variable called `radius = 14` first. Then use the variables `pi` AND `radius` to compute the area.\n",
    "\n",
    "<img src=\"data:image/png;base64,iVBORw0KGgoAAAANSUhEUgAAAO0AAADHCAMAAADCpCTtAAAABlBMVEX///8AAABVwtN+AAADAUlEQVR4nO2d23LaQBAF0f//dAKUgIRLCWnOZZjTVfEDlex2azcStmX5dAohhBBCCCGEEEIIIYQQbFieUStBeJv2a81bcn4j+auI3sV75JsG79fuF3xQuFNvxeJ0WeAyzQa9pYrmveV6zr0INddc0DpYLi9Qyq8XK+SVCz/6TsvLULHJ5Yh45NI2mcNuZirIc7kC4lz29NJc/uS6XMlpQ3WuUh1mybzCPTViSt3c2mvBqEsBe3b1uxrq/OpYqoE+lujgEEuz8Iid9Wk1ycMllmLiE0twcYrF24yq9YoF+7jFYo1G1frFIp1G1TrGwqw8Y1Feo2pdY2fd7gEx841FuI2qdY6tt0utD8V23rHVfqNq3WNrDVPrRaGhf2ylY2rdKHPsEFtnmVo/UqsbBk6NZ2odSa1qFDwlnl1ia0xT60lqFWNwSC1/CBrHXVPrSmrZI/BILXsEHra1kB8+dK3FPCbMuRbAca+CthejjlrbWf9vd8y/QaR77X3Db9kM3Wtv8y8T1vYXa//u0nWjPl1MlvXjbUtf/u7rZ7oeNzk8wpZJ3i/dsn64H45r64t/0KP20xnoFrr89wKklpH7MMXLnfzPS+9rm3wV7tMUT9fb7rUfZxhV+/D24v7C+ueLcSpcvEitZhAC+W61ahQ8qVWNgqfIs0dulWVq/UitdiAgdY6pdaPQ0T+30jC1XpQauufW+s2qNc+ttkutD+V2zrn1brNqjXM9b+FAATFzzcV4zao1zYVZOebinGbVGuYijWbV2uWCfbxy0Tazaq1yxTc3ceHclMiYZAMcj1m1Jrk0C4dcooM+l2qgziXPr81lzz6rVpormFuXK5lZlSuad9TvSD0pDrP07DjrUkCeXv2mhiogjyWeNhx+3/xp2qfVFBGbWMImM9nFK1gbr9YT9OibLewVkJRl65lZt3vUr4Ptwl4p1TNvPVOm2KD1TMmjj5q0Xjjo2in1wv7FabWsd/ZoN0298tUzwjAPFCOz5YltNU91s+HtU+qKHl/nCOIxfSE88Ac8wwKwUjtj+QAAAABJRU5ErkJggg==\">"
   ]
  },
  {
   "cell_type": "code",
   "execution_count": 3,
   "metadata": {
    "collapsed": true
   },
   "outputs": [],
   "source": [
    "# Put your answer below this comment!\n"
   ]
  },
  {
   "cell_type": "markdown",
   "metadata": {},
   "source": [
    "Variable Names in python can have:\n",
    "- letters\n",
    "- numbers\n",
    "- underscore _\n",
    "\n",
    "Names CANNOT have:\n",
    "- no spaces allowed\n",
    "- names can't start with a number"
   ]
  },
  {
   "cell_type": "code",
   "execution_count": null,
   "metadata": {
    "collapsed": true
   },
   "outputs": [],
   "source": [
    "a = 840\n",
    "b = 2 * a\n",
    "c = 12\n",
    "d = c * Bob\n",
    "d"
   ]
  },
  {
   "cell_type": "markdown",
   "metadata": {},
   "source": [
    "Hint: make names meaningful.\n",
    "\n",
    "instead of random variable names, give it useful names like this: (for the computer, it's the same thing!)"
   ]
  },
  {
   "cell_type": "code",
   "execution_count": null,
   "metadata": {
    "collapsed": true
   },
   "outputs": [],
   "source": [
    "bimonthly_salary = 840\n",
    "monthly_salary = 2 * bimonthly_salary\n",
    "number_of_months_in_a_year = 12\n",
    "yearly_salary = number_of_months_in_a_year * monthly_salary\n",
    "yearly_salary"
   ]
  },
  {
   "cell_type": "markdown",
   "metadata": {},
   "source": [
    "## Calling functions!"
   ]
  },
  {
   "cell_type": "markdown",
   "metadata": {},
   "source": [
    "What do you thing the `abs` function does?"
   ]
  },
  {
   "cell_type": "code",
   "execution_count": null,
   "metadata": {
    "collapsed": true
   },
   "outputs": [],
   "source": [
    "abs(5)"
   ]
  },
  {
   "cell_type": "code",
   "execution_count": null,
   "metadata": {
    "collapsed": true
   },
   "outputs": [],
   "source": [
    "abs(-5)"
   ]
  },
  {
   "cell_type": "markdown",
   "metadata": {},
   "source": [
    "Note that calling any function has the same format: name, paranthesis, values, end paranthesis\n",
    "\n",
    "**function_name ( put in your values here )**\n",
    "\n",
    "    print(\"hello\")\n",
    "    abs(5)"
   ]
  },
  {
   "cell_type": "markdown",
   "metadata": {},
   "source": [
    "You can put in expressions as the value!"
   ]
  },
  {
   "cell_type": "code",
   "execution_count": null,
   "metadata": {
    "collapsed": true
   },
   "outputs": [],
   "source": [
    "abs(1.21 - 1.688)"
   ]
  },
  {
   "cell_type": "markdown",
   "metadata": {},
   "source": [
    "Some functions take in multiple values! If it does, you have to seperate them by **commas**"
   ]
  },
  {
   "cell_type": "code",
   "execution_count": null,
   "metadata": {
    "collapsed": true
   },
   "outputs": [],
   "source": [
    "max(17, 16)"
   ]
  },
  {
   "cell_type": "code",
   "execution_count": null,
   "metadata": {
    "collapsed": true
   },
   "outputs": [],
   "source": [
    "min(590, -590)"
   ]
  },
  {
   "cell_type": "markdown",
   "metadata": {},
   "source": [
    "## Writing your own function!"
   ]
  },
  {
   "cell_type": "code",
   "execution_count": 9,
   "metadata": {
    "collapsed": true
   },
   "outputs": [],
   "source": [
    "def func(x, y, hello):\n",
    "    return x + y * hello"
   ]
  },
  {
   "cell_type": "markdown",
   "metadata": {},
   "source": [
    "Now we can call this function later. Note that the name `func` now refers to the function above. It takes in three values. We call these values that a function takes in **arguments.** So, when we call `func` we have to input 3 arguments!"
   ]
  },
  {
   "cell_type": "code",
   "execution_count": null,
   "metadata": {
    "collapsed": true
   },
   "outputs": [],
   "source": [
    "func(5, 6, 7)"
   ]
  },
  {
   "cell_type": "markdown",
   "metadata": {},
   "source": [
    "What actually happens??? The values `5, 6, 7` are **passed to the function `func`** and the **values are assigned to the argument names.** \n",
    "\n",
    "Now, in the function the argument names have become variables:\n",
    "- `x = 5`\n",
    "- `y = 6`\n",
    "- `hello = 7`\n",
    "\n",
    "Every time we call the function `func` the `x, y, hello` values are reassigned. \n",
    "\n",
    "For example, if we do `func(99, 4, -9)` then:\n",
    "- `x = 99`\n",
    "- `y = 4`\n",
    "- `hello = -9`\n",
    "\n",
    "Try calling the function again!"
   ]
  },
  {
   "cell_type": "code",
   "execution_count": 10,
   "metadata": {
    "collapsed": true
   },
   "outputs": [],
   "source": [
    "# call the function here"
   ]
  },
  {
   "cell_type": "code",
   "execution_count": 1,
   "metadata": {
    "collapsed": true
   },
   "outputs": [],
   "source": [
    "# Extra: try function for finding roots of a quadratic equation"
   ]
  },
  {
   "cell_type": "code",
   "execution_count": null,
   "metadata": {
    "collapsed": true
   },
   "outputs": [],
   "source": []
  }
 ],
 "metadata": {
  "anaconda-cloud": {},
  "kernelspec": {
   "display_name": "Python 3",
   "language": "python",
   "name": "python3"
  },
  "language_info": {
   "codemirror_mode": {
    "name": "ipython",
    "version": 3
   },
   "file_extension": ".py",
   "mimetype": "text/x-python",
   "name": "python",
   "nbconvert_exporter": "python",
   "pygments_lexer": "ipython3",
   "version": "3.6.1"
  }
 },
 "nbformat": 4,
 "nbformat_minor": 1
}
